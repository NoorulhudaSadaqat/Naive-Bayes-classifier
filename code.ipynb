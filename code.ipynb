{
 "cells": [
  {
   "cell_type": "code",
   "execution_count": 2,
   "metadata": {},
   "outputs": [
    {
     "name": "stdout",
     "output_type": "stream",
     "text": [
      "[[0 0 0 ... 0 0 0]\n",
      " [0 0 0 ... 0 0 0]\n",
      " [0 0 0 ... 0 0 1]\n",
      " ...\n",
      " [0 0 0 ... 0 0 0]\n",
      " [0 0 0 ... 0 0 0]\n",
      " [0 0 0 ... 0 0 0]]\n",
      "(500, 256)\n"
     ]
    }
   ],
   "source": [
    "%matplotlib inline\n",
    "#loading and storing training data\n",
    "import numpy as np\n",
    "from matplotlib import pyplot as plt\n",
    "fhand =open(\"trainX.txt\")\n",
    "Train_data=np.loadtxt(\"trainX.txt\",dtype=int)\n",
    "print(Train_data)\n",
    "print(Train_data.shape)"
   ]
  },
  {
   "cell_type": "code",
   "execution_count": 3,
   "metadata": {},
   "outputs": [
    {
     "data": {
      "text/plain": [
       "<matplotlib.image.AxesImage at 0x269ac77e190>"
      ]
     },
     "execution_count": 3,
     "metadata": {},
     "output_type": "execute_result"
    },
    {
     "data": {
      "image/png": "[encoded data removed]",
      "text/plain": [
       "<Figure size 432x288 with 1 Axes>"
      ]
     },
     "metadata": {
      "needs_background": "light"
     },
     "output_type": "display_data"
    }
   ],
   "source": [
    "#storng data of digit 2\n",
    "two_train=Train_data[:250,:]\n",
    "row1=two_train[0]\n",
    "#printing image of digit 2\n",
    "img=np.reshape(row1,(16,16),order=\"F\")\n",
    "plt.imshow(img)"
   ]
  },
  {
   "cell_type": "code",
   "execution_count": 11,
   "metadata": {},
   "outputs": [
    {
     "name": "stdout",
     "output_type": "stream",
     "text": [
      "[0.01190476 0.03571429 0.07142857 0.10714286 0.09126984 0.07539683\n",
      " 0.04365079 0.01984127 0.01190476 0.00793651 0.01587302 0.02777778\n",
      " 0.03571429 0.05952381 0.05555556 0.02380952 0.03571429 0.1031746\n",
      " 0.13095238 0.13492063 0.11111111 0.09126984 0.03174603 0.00396825\n",
      " 0.00396825 0.00793651 0.02777778 0.04365079 0.09126984 0.11507937\n",
      " 0.14285714 0.07936508 0.09920635 0.21031746 0.23015873 0.1984127\n",
      " 0.1547619  0.0952381  0.03571429 0.01587302 0.00396825 0.01587302\n",
      " 0.05952381 0.11111111 0.20634921 0.27777778 0.29761905 0.23412698\n",
      " 0.23412698 0.32142857 0.28968254 0.21428571 0.13492063 0.05555556\n",
      " 0.03174603 0.01190476 0.00793651 0.01984127 0.0952381  0.1547619\n",
      " 0.29761905 0.38095238 0.33333333 0.33333333 0.37698413 0.32539683\n",
      " 0.21428571 0.17063492 0.09126984 0.03968254 0.01984127 0.00793651\n",
      " 0.00396825 0.04365079 0.12698413 0.24603175 0.37301587 0.50396825\n",
      " 0.43253968 0.39285714 0.55555556 0.35714286 0.23015873 0.1468254\n",
      " 0.06349206 0.02380952 0.00396825 0.00793651 0.03174603 0.07539683\n",
      " 0.15873016 0.3531746  0.49206349 0.45634921 0.43650794 0.44047619\n",
      " 0.69047619 0.38095238 0.21031746 0.08333333 0.04365079 0.03174603\n",
      " 0.01984127 0.0515873  0.06349206 0.12698413 0.26984127 0.40873016\n",
      " 0.42063492 0.3531746  0.4484127  0.42857143 0.76190476 0.30555556\n",
      " 0.17460317 0.10714286 0.07936508 0.07142857 0.07539683 0.07539683\n",
      " 0.11507937 0.23015873 0.29365079 0.37698413 0.30952381 0.25\n",
      " 0.3968254  0.45238095 0.73412698 0.25       0.18650794 0.15079365\n",
      " 0.15079365 0.11507937 0.12301587 0.16666667 0.25396825 0.32936508\n",
      " 0.37301587 0.34126984 0.25       0.23015873 0.36507937 0.53968254\n",
      " 0.6547619  0.29761905 0.23809524 0.19047619 0.17857143 0.19047619\n",
      " 0.21825397 0.26984127 0.28571429 0.3531746  0.23809524 0.16666667\n",
      " 0.12698413 0.16269841 0.33730159 0.6468254  0.49206349 0.30555556\n",
      " 0.23412698 0.22619048 0.23015873 0.21825397 0.24603175 0.28174603\n",
      " 0.28174603 0.1984127  0.1468254  0.05555556 0.05952381 0.10714286\n",
      " 0.27380952 0.71031746 0.28571429 0.27380952 0.26587302 0.22222222\n",
      " 0.21428571 0.21428571 0.21031746 0.20238095 0.13492063 0.1031746\n",
      " 0.0515873  0.03174603 0.03174603 0.1031746  0.28968254 0.76587302\n",
      " 0.11904762 0.1031746  0.15079365 0.17063492 0.16666667 0.16666667\n",
      " 0.1468254  0.11111111 0.0952381  0.05952381 0.03968254 0.01984127\n",
      " 0.03571429 0.06746032 0.24603175 0.75       0.05952381 0.06349206\n",
      " 0.07539683 0.07936508 0.07936508 0.07539683 0.07539683 0.07142857\n",
      " 0.04365079 0.04365079 0.04761905 0.05952381 0.07539683 0.1031746\n",
      " 0.21825397 0.63888889 0.02380952 0.03174603 0.02777778 0.02380952\n",
      " 0.02777778 0.01984127 0.02380952 0.01984127 0.01587302 0.01190476\n",
      " 0.02777778 0.02380952 0.04365079 0.04365079 0.13095238 0.37301587\n",
      " 0.00396825 0.01190476 0.01190476 0.01587302 0.01587302 0.02380952\n",
      " 0.02380952 0.01984127 0.00793651 0.01190476 0.01984127 0.03571429\n",
      " 0.04365079 0.04365079 0.09126984 0.16269841]\n",
      "[0.98809524 0.96428571 0.92857143 0.89285714 0.90873016 0.92460317\n",
      " 0.95634921 0.98015873 0.98809524 0.99206349 0.98412698 0.97222222\n",
      " 0.96428571 0.94047619 0.94444444 0.97619048 0.96428571 0.8968254\n",
      " 0.86904762 0.86507937 0.88888889 0.90873016 0.96825397 0.99603175\n",
      " 0.99603175 0.99206349 0.97222222 0.95634921 0.90873016 0.88492063\n",
      " 0.85714286 0.92063492 0.90079365 0.78968254 0.76984127 0.8015873\n",
      " 0.8452381  0.9047619  0.96428571 0.98412698 0.99603175 0.98412698\n",
      " 0.94047619 0.88888889 0.79365079 0.72222222 0.70238095 0.76587302\n",
      " 0.76587302 0.67857143 0.71031746 0.78571429 0.86507937 0.94444444\n",
      " 0.96825397 0.98809524 0.99206349 0.98015873 0.9047619  0.8452381\n",
      " 0.70238095 0.61904762 0.66666667 0.66666667 0.62301587 0.67460317\n",
      " 0.78571429 0.82936508 0.90873016 0.96031746 0.98015873 0.99206349\n",
      " 0.99603175 0.95634921 0.87301587 0.75396825 0.62698413 0.49603175\n",
      " 0.56746032 0.60714286 0.44444444 0.64285714 0.76984127 0.8531746\n",
      " 0.93650794 0.97619048 0.99603175 0.99206349 0.96825397 0.92460317\n",
      " 0.84126984 0.6468254  0.50793651 0.54365079 0.56349206 0.55952381\n",
      " 0.30952381 0.61904762 0.78968254 0.91666667 0.95634921 0.96825397\n",
      " 0.98015873 0.9484127  0.93650794 0.87301587 0.73015873 0.59126984\n",
      " 0.57936508 0.6468254  0.5515873  0.57142857 0.23809524 0.69444444\n",
      " 0.82539683 0.89285714 0.92063492 0.92857143 0.92460317 0.92460317\n",
      " 0.88492063 0.76984127 0.70634921 0.62301587 0.69047619 0.75\n",
      " 0.6031746  0.54761905 0.26587302 0.75       0.81349206 0.84920635\n",
      " 0.84920635 0.88492063 0.87698413 0.83333333 0.74603175 0.67063492\n",
      " 0.62698413 0.65873016 0.75       0.76984127 0.63492063 0.46031746\n",
      " 0.3452381  0.70238095 0.76190476 0.80952381 0.82142857 0.80952381\n",
      " 0.78174603 0.73015873 0.71428571 0.6468254  0.76190476 0.83333333\n",
      " 0.87301587 0.83730159 0.66269841 0.3531746  0.50793651 0.69444444\n",
      " 0.76587302 0.77380952 0.76984127 0.78174603 0.75396825 0.71825397\n",
      " 0.71825397 0.8015873  0.8531746  0.94444444 0.94047619 0.89285714\n",
      " 0.72619048 0.28968254 0.71428571 0.72619048 0.73412698 0.77777778\n",
      " 0.78571429 0.78571429 0.78968254 0.79761905 0.86507937 0.8968254\n",
      " 0.9484127  0.96825397 0.96825397 0.8968254  0.71031746 0.23412698\n",
      " 0.88095238 0.8968254  0.84920635 0.82936508 0.83333333 0.83333333\n",
      " 0.8531746  0.88888889 0.9047619  0.94047619 0.96031746 0.98015873\n",
      " 0.96428571 0.93253968 0.75396825 0.25       0.94047619 0.93650794\n",
      " 0.92460317 0.92063492 0.92063492 0.92460317 0.92460317 0.92857143\n",
      " 0.95634921 0.95634921 0.95238095 0.94047619 0.92460317 0.8968254\n",
      " 0.78174603 0.36111111 0.97619048 0.96825397 0.97222222 0.97619048\n",
      " 0.97222222 0.98015873 0.97619048 0.98015873 0.98412698 0.98809524\n",
      " 0.97222222 0.97619048 0.95634921 0.95634921 0.86904762 0.62698413\n",
      " 0.99603175 0.98809524 0.98809524 0.98412698 0.98412698 0.97619048\n",
      " 0.97619048 0.98015873 0.99206349 0.98809524 0.98015873 0.96428571\n",
      " 0.95634921 0.95634921 0.90873016 0.83730159]\n"
     ]
    }
   ],
   "source": [
    "#computing probabilities of digit 2\n",
    "two_one_prob=(two_train.sum(axis=0)+1)/(two_train.shape[0]+2)\n",
    "two_zero_prob=1-two_one_prob\n",
    "print(two_one_prob)\n",
    "print(two_zero_prob)"
   ]
  },
  {
   "cell_type": "code",
   "execution_count": 12,
   "metadata": {
    "scrolled": true
   },
   "outputs": [
    {
     "name": "stdout",
     "output_type": "stream",
     "text": [
      "[0.01587302 0.01587302 0.01587302 0.01587302 0.01984127 0.01984127\n",
      " 0.02380952 0.03571429 0.04365079 0.0515873  0.04365079 0.03174603\n",
      " 0.01190476 0.01190476 0.00793651 0.00396825 0.0515873  0.0515873\n",
      " 0.05952381 0.05952381 0.05555556 0.04761905 0.06746032 0.06349206\n",
      " 0.07936508 0.07142857 0.09126984 0.08730159 0.01587302 0.00793651\n",
      " 0.00793651 0.00793651 0.08333333 0.09126984 0.1031746  0.13095238\n",
      " 0.13888889 0.1547619  0.15079365 0.15873016 0.17460317 0.1984127\n",
      " 0.17063492 0.13095238 0.07142857 0.03174603 0.01190476 0.00396825\n",
      " 0.20238095 0.22619048 0.21825397 0.23809524 0.26984127 0.3015873\n",
      " 0.3015873  0.3531746  0.3452381  0.36111111 0.28571429 0.21428571\n",
      " 0.08730159 0.03968254 0.00793651 0.00396825 0.18253968 0.16269841\n",
      " 0.16666667 0.21031746 0.21825397 0.26587302 0.33730159 0.39285714\n",
      " 0.33730159 0.33333333 0.3015873  0.21825397 0.09126984 0.03571429\n",
      " 0.01984127 0.02777778 0.20634921 0.20238095 0.20634921 0.22619048\n",
      " 0.21825397 0.28968254 0.24206349 0.26984127 0.26190476 0.27380952\n",
      " 0.26190476 0.21825397 0.12698413 0.06746032 0.04365079 0.04365079\n",
      " 0.1547619  0.15873016 0.16269841 0.19047619 0.17857143 0.13095238\n",
      " 0.09126984 0.15079365 0.17857143 0.23015873 0.28968254 0.25396825\n",
      " 0.13492063 0.07539683 0.06349206 0.1031746  0.12301587 0.11904762\n",
      " 0.13095238 0.10714286 0.06746032 0.05555556 0.05952381 0.14285714\n",
      " 0.17460317 0.23412698 0.3531746  0.30952381 0.22619048 0.18650794\n",
      " 0.18650794 0.21031746 0.08333333 0.07936508 0.05952381 0.03968254\n",
      " 0.06746032 0.13888889 0.19047619 0.29761905 0.34920635 0.38095238\n",
      " 0.46825397 0.4484127  0.37698413 0.35714286 0.31349206 0.34920635\n",
      " 0.03968254 0.0515873  0.0515873  0.07539683 0.15079365 0.21428571\n",
      " 0.28968254 0.39285714 0.43650794 0.47619048 0.52380952 0.48412698\n",
      " 0.3968254  0.3015873  0.29761905 0.30952381 0.03571429 0.03174603\n",
      " 0.0515873  0.09126984 0.15079365 0.18650794 0.23015873 0.3015873\n",
      " 0.31349206 0.36507937 0.40873016 0.38095238 0.24206349 0.19444444\n",
      " 0.15079365 0.17063492 0.00793651 0.01984127 0.03571429 0.06349206\n",
      " 0.07539683 0.12301587 0.1468254  0.20634921 0.19047619 0.3015873\n",
      " 0.3015873  0.27777778 0.13888889 0.07936508 0.05555556 0.05555556\n",
      " 0.00793651 0.00396825 0.01587302 0.02380952 0.03174603 0.02380952\n",
      " 0.03968254 0.09126984 0.10714286 0.18650794 0.18253968 0.1984127\n",
      " 0.09126984 0.03968254 0.01190476 0.01190476 0.00396825 0.00793651\n",
      " 0.00793651 0.00793651 0.00793651 0.01984127 0.03174603 0.0515873\n",
      " 0.05952381 0.09126984 0.09126984 0.11507937 0.07539683 0.03968254\n",
      " 0.00396825 0.00396825 0.00396825 0.00793651 0.00396825 0.00396825\n",
      " 0.00396825 0.00396825 0.01190476 0.02777778 0.02380952 0.04365079\n",
      " 0.03968254 0.0515873  0.04365079 0.00793651 0.00396825 0.00396825\n",
      " 0.00396825 0.00396825 0.00396825 0.00396825 0.00396825 0.00396825\n",
      " 0.00396825 0.01190476 0.01190476 0.02380952 0.01587302 0.01587302\n",
      " 0.01984127 0.00396825 0.00396825 0.00396825]\n",
      "[0.98412698 0.98412698 0.98412698 0.98412698 0.98015873 0.98015873\n",
      " 0.97619048 0.96428571 0.95634921 0.9484127  0.95634921 0.96825397\n",
      " 0.98809524 0.98809524 0.99206349 0.99603175 0.9484127  0.9484127\n",
      " 0.94047619 0.94047619 0.94444444 0.95238095 0.93253968 0.93650794\n",
      " 0.92063492 0.92857143 0.90873016 0.91269841 0.98412698 0.99206349\n",
      " 0.99206349 0.99206349 0.91666667 0.90873016 0.8968254  0.86904762\n",
      " 0.86111111 0.8452381  0.84920635 0.84126984 0.82539683 0.8015873\n",
      " 0.82936508 0.86904762 0.92857143 0.96825397 0.98809524 0.99603175\n",
      " 0.79761905 0.77380952 0.78174603 0.76190476 0.73015873 0.6984127\n",
      " 0.6984127  0.6468254  0.6547619  0.63888889 0.71428571 0.78571429\n",
      " 0.91269841 0.96031746 0.99206349 0.99603175 0.81746032 0.83730159\n",
      " 0.83333333 0.78968254 0.78174603 0.73412698 0.66269841 0.60714286\n",
      " 0.66269841 0.66666667 0.6984127  0.78174603 0.90873016 0.96428571\n",
      " 0.98015873 0.97222222 0.79365079 0.79761905 0.79365079 0.77380952\n",
      " 0.78174603 0.71031746 0.75793651 0.73015873 0.73809524 0.72619048\n",
      " 0.73809524 0.78174603 0.87301587 0.93253968 0.95634921 0.95634921\n",
      " 0.8452381  0.84126984 0.83730159 0.80952381 0.82142857 0.86904762\n",
      " 0.90873016 0.84920635 0.82142857 0.76984127 0.71031746 0.74603175\n",
      " 0.86507937 0.92460317 0.93650794 0.8968254  0.87698413 0.88095238\n",
      " 0.86904762 0.89285714 0.93253968 0.94444444 0.94047619 0.85714286\n",
      " 0.82539683 0.76587302 0.6468254  0.69047619 0.77380952 0.81349206\n",
      " 0.81349206 0.78968254 0.91666667 0.92063492 0.94047619 0.96031746\n",
      " 0.93253968 0.86111111 0.80952381 0.70238095 0.65079365 0.61904762\n",
      " 0.53174603 0.5515873  0.62301587 0.64285714 0.68650794 0.65079365\n",
      " 0.96031746 0.9484127  0.9484127  0.92460317 0.84920635 0.78571429\n",
      " 0.71031746 0.60714286 0.56349206 0.52380952 0.47619048 0.51587302\n",
      " 0.6031746  0.6984127  0.70238095 0.69047619 0.96428571 0.96825397\n",
      " 0.9484127  0.90873016 0.84920635 0.81349206 0.76984127 0.6984127\n",
      " 0.68650794 0.63492063 0.59126984 0.61904762 0.75793651 0.80555556\n",
      " 0.84920635 0.82936508 0.99206349 0.98015873 0.96428571 0.93650794\n",
      " 0.92460317 0.87698413 0.8531746  0.79365079 0.80952381 0.6984127\n",
      " 0.6984127  0.72222222 0.86111111 0.92063492 0.94444444 0.94444444\n",
      " 0.99206349 0.99603175 0.98412698 0.97619048 0.96825397 0.97619048\n",
      " 0.96031746 0.90873016 0.89285714 0.81349206 0.81746032 0.8015873\n",
      " 0.90873016 0.96031746 0.98809524 0.98809524 0.99603175 0.99206349\n",
      " 0.99206349 0.99206349 0.99206349 0.98015873 0.96825397 0.9484127\n",
      " 0.94047619 0.90873016 0.90873016 0.88492063 0.92460317 0.96031746\n",
      " 0.99603175 0.99603175 0.99603175 0.99206349 0.99603175 0.99603175\n",
      " 0.99603175 0.99603175 0.98809524 0.97222222 0.97619048 0.95634921\n",
      " 0.96031746 0.9484127  0.95634921 0.99206349 0.99603175 0.99603175\n",
      " 0.99603175 0.99603175 0.99603175 0.99603175 0.99603175 0.99603175\n",
      " 0.99603175 0.98809524 0.98809524 0.97619048 0.98412698 0.98412698\n",
      " 0.98015873 0.99603175 0.99603175 0.99603175]\n"
     ]
    }
   ],
   "source": [
    "#storing data and computing probability of digit 4\n",
    "four_train=Train_data[250::]\n",
    "four_one_prob=(four_train.sum(axis=0)+1)/(four_train.shape[0]+2)\n",
    "four_zero_prob=1-four_one_prob\n",
    "print(four_one_prob)\n",
    "print(four_zero_prob)"
   ]
  },
  {
   "cell_type": "code",
   "execution_count": 13,
   "metadata": {},
   "outputs": [
    {
     "data": {
      "text/plain": [
       "<matplotlib.image.AxesImage at 0x269ac889c40>"
      ]
     },
     "execution_count": 13,
     "metadata": {},
     "output_type": "execute_result"
    },
    {
     "data": {
      "image/png": "[encoded data removed]",
      "text/plain": [
       "<Figure size 432x288 with 1 Axes>"
      ]
     },
     "metadata": {
      "needs_background": "light"
     },
     "output_type": "display_data"
    }
   ],
   "source": [
    "#printing image of digit 4\n",
    "row250=four_train[0]\n",
    "img4=np.reshape(row250,(16,16),order=\"F\")\n",
    "plt.imshow(img4)"
   ]
  },
  {
   "cell_type": "code",
   "execution_count": 14,
   "metadata": {},
   "outputs": [
    {
     "name": "stdout",
     "output_type": "stream",
     "text": [
      "[[0 0 0 ... 0 0 0]\n",
      " [0 0 0 ... 0 0 0]\n",
      " [0 0 0 ... 0 0 0]\n",
      " ...\n",
      " [0 0 0 ... 0 0 0]\n",
      " [0 0 0 ... 0 0 0]\n",
      " [0 0 0 ... 0 0 0]]\n",
      "(100, 256)\n"
     ]
    }
   ],
   "source": [
    "#loading testing data\n",
    "Test_data=np.loadtxt(\"testX.txt\",dtype=int)\n",
    "print(Test_data)\n",
    "print(Test_data.shape)"
   ]
  },
  {
   "cell_type": "code",
   "execution_count": 20,
   "metadata": {},
   "outputs": [
    {
     "name": "stdout",
     "output_type": "stream",
     "text": [
      "It is digit 2\n",
      "It is digit 2\n",
      "It is digit 2\n",
      "It is digit 2\n",
      "It is digit 2\n",
      "It is digit 2\n",
      "It is digit 2\n",
      "It is digit 2\n",
      "It is digit 2\n",
      "It is digit 2\n",
      "It is digit 2\n",
      "It is digit 2\n",
      "It is digit 2\n",
      "It is digit 2\n",
      "It is digit 2\n",
      "It is digit 2\n",
      "It is digit 2\n",
      "It is digit 2\n",
      "It is digit 2\n",
      "It is digit 2\n",
      "It is digit 2\n",
      "It is digit 2\n",
      "It is digit 2\n",
      "It is digit 2\n",
      "It is digit 2\n",
      "It is digit 2\n",
      "It is digit 2\n",
      "It is digit 2\n",
      "It is digit 2\n",
      "It is digit 2\n",
      "It is digit 2\n",
      "It is digit 2\n",
      "It is digit 2\n",
      "It is digit 2\n",
      "It is digit 2\n",
      "It is digit 2\n",
      "It is digit 2\n",
      "It is digit 2\n",
      "It is digit 2\n",
      "It is digit 2\n",
      "It is digit 2\n",
      "It is digit 2\n",
      "It is digit 2\n",
      "It is digit 2\n",
      "It is digit 2\n",
      "It is digit 2\n",
      "It is digit 2\n",
      "It is digit 2\n",
      "It is digit 2\n",
      "It is digit 2\n",
      "It is digit 4\n",
      "It is digit 4\n",
      "It is digit 4\n",
      "It is digit 4\n",
      "It is digit 4\n",
      "It is digit 4\n",
      "It is digit 4\n",
      "It is digit 4\n",
      "It is digit 4\n",
      "It is digit 4\n",
      "It is digit 4\n",
      "It is digit 4\n",
      "It is digit 4\n",
      "It is digit 4\n",
      "It is digit 4\n",
      "It is digit 4\n",
      "It is digit 4\n",
      "It is digit 4\n",
      "It is digit 4\n",
      "It is digit 4\n",
      "It is digit 4\n",
      "It is digit 4\n",
      "It is digit 4\n",
      "It is digit 4\n",
      "It is digit 4\n",
      "It is digit 4\n",
      "It is digit 4\n",
      "It is digit 4\n",
      "It is digit 4\n",
      "It is digit 4\n",
      "It is digit 4\n",
      "It is digit 4\n",
      "It is digit 4\n",
      "It is digit 4\n",
      "It is digit 4\n",
      "It is digit 4\n",
      "It is digit 4\n",
      "It is digit 4\n",
      "It is digit 4\n",
      "It is digit 4\n",
      "It is digit 4\n",
      "It is digit 4\n",
      "It is digit 4\n",
      "It is digit 4\n",
      "It is digit 4\n",
      "It is digit 4\n",
      "It is digit 4\n",
      "It is digit 4\n",
      "It is digit 4\n",
      "It is digit 4\n"
     ]
    }
   ],
   "source": [
    "#computing probability and storing predicted results\n",
    "result=[]\n",
    "sum2=0\n",
    "sum4=0\n",
    "for row in Test_data:\n",
    "    count=0\n",
    "    mul=1\n",
    "    for digit in row:\n",
    "        if(digit==1):\n",
    "            mul*=two_one_prob[count]\n",
    "        else:\n",
    "            mul*=two_zero_prob[count]\n",
    "        count+=1\n",
    "    count1=0\n",
    "    mul1=1\n",
    "    for digit in row:\n",
    "        if(digit==1):\n",
    "            mul1*=four_one_prob[count1]\n",
    "        else:\n",
    "            mul1*=four_zero_prob[count1]\n",
    "        count1+=1\n",
    "    mul/=2\n",
    "    mul1/=2\n",
    "    if(mul>mul1):\n",
    "        sum2+=1\n",
    "        print(\"It is digit 2\")\n",
    "        result.append(2)\n",
    "    else:\n",
    "        sum4+=1\n",
    "        print(\"It is digit 4\")\n",
    "        result.append(4)"
   ]
  },
  {
   "cell_type": "code",
   "execution_count": 28,
   "metadata": {},
   "outputs": [
    {
     "name": "stdout",
     "output_type": "stream",
     "text": [
      "Accuarcy : 1.0\n",
      "Precision : 1.0\n"
     ]
    }
   ],
   "source": [
    "#caluclating accuracy and precision of system\n",
    "test=np.loadtxt(\"testY.txt\",dtype=int)\n",
    "Tp=0\n",
    "Tn=0\n",
    "Fp=0\n",
    "Fn=0\n",
    "count=0\n",
    "while (count<100):\n",
    "    if(test[count]==result[count]):\n",
    "        if(test[count]==2):\n",
    "            Tp+=1\n",
    "        elif(test[count]==4):\n",
    "            Tn+=1\n",
    "    else:\n",
    "        if(test[count]==2):\n",
    "            Fn+=1\n",
    "        else:\n",
    "            Fp+=1\n",
    "    count+=1\n",
    "accuracy=(Tp+Tn)/(Tp+Tn+Fn+Fp)\n",
    "precision=(Tp)/(Tp+Fp)\n",
    "print(\"Accuarcy :\",accuracy)\n",
    "print(\"Precision :\",precision)"
   ]
  },
  {
   "cell_type": "code",
   "execution_count": null,
   "metadata": {},
   "outputs": [],
   "source": []
  }
 ],
 "metadata": {
  "kernelspec": {
   "display_name": "Python 3",
   "language": "python",
   "name": "python3"
  },
  "language_info": {
   "codemirror_mode": {
    "name": "ipython",
    "version": 3
   },
   "file_extension": ".py",
   "mimetype": "text/x-python",
   "name": "python",
   "nbconvert_exporter": "python",
   "pygments_lexer": "ipython3",
   "version": "3.8.3"
  }
 },
 "nbformat": 4,
 "nbformat_minor": 4
}
